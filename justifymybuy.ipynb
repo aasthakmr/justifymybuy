{
  "cells": [
    {
      "cell_type": "markdown",
      "id": "5df15994-e9ec-479e-87ff-f04d191b2847",
      "metadata": {
        "id": "5df15994-e9ec-479e-87ff-f04d191b2847"
      },
      "source": [
        "## Import Libraries"
      ]
    },
    {
      "cell_type": "code",
      "execution_count": null,
      "id": "75f8cab8-82d9-447f-a378-002a9a104ab3",
      "metadata": {
        "id": "75f8cab8-82d9-447f-a378-002a9a104ab3",
        "outputId": "554e9da4-b96e-4659-b9b4-71d6b1a72d9f"
      },
      "outputs": [
        {
          "name": "stderr",
          "output_type": "stream",
          "text": [
            "/opt/anaconda3/lib/python3.12/site-packages/pydantic/_internal/_fields.py:161: UserWarning: Field \"model_id\" has conflict with protected namespace \"model_\".\n",
            "\n",
            "You may be able to resolve this warning by setting `model_config['protected_namespaces'] = ()`.\n",
            "  warnings.warn(\n"
          ]
        }
      ],
      "source": [
        "import pandas as pd\n",
        "import numpy as np\n",
        "import json\n",
        "from collections import defaultdict\n",
        "from sentence_transformers import SentenceTransformer\n",
        "import pickle\n",
        "import faiss\n",
        "from together import Together\n",
        "from difflib import get_close_matches\n",
        "import os\n",
        "from openai import OpenAI"
      ]
    },
    {
      "cell_type": "markdown",
      "id": "5c683c57-312a-4895-b87b-597ce68e625e",
      "metadata": {
        "id": "5c683c57-312a-4895-b87b-597ce68e625e"
      },
      "source": [
        "## Define a Line-by-Line JSON Parser"
      ]
    },
    {
      "cell_type": "code",
      "execution_count": null,
      "id": "828222c2-279e-479e-989b-a02c99a10adf",
      "metadata": {
        "id": "828222c2-279e-479e-989b-a02c99a10adf"
      },
      "outputs": [],
      "source": [
        "def parse_json(filename, limit=None):\n",
        "    data = []\n",
        "    with open(filename, 'r') as f:\n",
        "        for i, line in enumerate(f):\n",
        "            if limit and i >= limit:\n",
        "                break\n",
        "            data.append(json.loads(line))\n",
        "    return data"
      ]
    },
    {
      "cell_type": "markdown",
      "id": "62ea20b3-342d-49b6-b91d-acb35f51ed74",
      "metadata": {
        "id": "62ea20b3-342d-49b6-b91d-acb35f51ed74"
      },
      "source": [
        "## Load Metadata"
      ]
    },
    {
      "cell_type": "code",
      "execution_count": null,
      "id": "bdddb28f-7e43-46df-85ae-861302c816a4",
      "metadata": {
        "id": "bdddb28f-7e43-46df-85ae-861302c816a4"
      },
      "outputs": [],
      "source": [
        "sample_meta = parse_json(\"meta_Beauty_and_Personal_Care.jsonl\")\n",
        "meta_df = pd.DataFrame(sample_meta)\n",
        "\n",
        "# Extract set of ASINs that appear in metadata\n",
        "meta_asins = set([m.get(\"parent_asin\") for m in sample_meta if m.get(\"parent_asin\")])"
      ]
    },
    {
      "cell_type": "markdown",
      "id": "6a7103ea-6be9-48cd-b888-b0a25078a3e5",
      "metadata": {
        "id": "6a7103ea-6be9-48cd-b888-b0a25078a3e5"
      },
      "source": [
        "## Load Only Reviews That Match Metadata"
      ]
    },
    {
      "cell_type": "code",
      "execution_count": null,
      "id": "e80ca859-5eca-4512-a9eb-eff23befc1f4",
      "metadata": {
        "id": "e80ca859-5eca-4512-a9eb-eff23befc1f4"
      },
      "outputs": [],
      "source": [
        "raw_reviews = parse_json(\"Beauty_and_Personal_Care.jsonl\")\n",
        "\n",
        "# Filter reviews to only those in metadata\n",
        "sample_reviews = [r for r in raw_reviews if r.get(\"parent_asin\") in meta_asins]\n",
        "reviews_df = pd.DataFrame(sample_reviews)"
      ]
    },
    {
      "cell_type": "markdown",
      "id": "66b369f1-b642-414a-ab45-96564562ebb1",
      "metadata": {
        "id": "66b369f1-b642-414a-ab45-96564562ebb1"
      },
      "source": [
        "## Group Reviews by Product ID"
      ]
    },
    {
      "cell_type": "code",
      "execution_count": null,
      "id": "16243eae-2ee9-467c-8ccf-a7878471b2de",
      "metadata": {
        "id": "16243eae-2ee9-467c-8ccf-a7878471b2de"
      },
      "outputs": [],
      "source": [
        "review_by_asin = defaultdict(list)\n",
        "for r in sample_reviews:\n",
        "    parent_asin = r.get(\"parent_asin\")\n",
        "    if parent_asin and r.get(\"text\"):\n",
        "        review_by_asin[parent_asin].append(r[\"text\"])"
      ]
    },
    {
      "cell_type": "markdown",
      "id": "bf5290fa-853f-42ce-9f5f-51f46d7bfe82",
      "metadata": {
        "id": "bf5290fa-853f-42ce-9f5f-51f46d7bfe82"
      },
      "source": [
        "## Sanity Check"
      ]
    },
    {
      "cell_type": "code",
      "execution_count": null,
      "id": "0479af05-7118-4f42-aa62-533de9bea96d",
      "metadata": {
        "id": "0479af05-7118-4f42-aa62-533de9bea96d",
        "outputId": "c7bfb85a-e6b5-46bb-cd4f-ad4d6bccc88b"
      },
      "outputs": [
        {
          "name": "stdout",
          "output_type": "stream",
          "text": [
            "Reviews loaded: 347941\n",
            "Metadata loaded: 500000\n",
            "Common ASINs: 101800\n"
          ]
        }
      ],
      "source": [
        "print(\"Reviews loaded:\", len(sample_reviews))\n",
        "print(\"Metadata loaded:\", len(sample_meta))\n",
        "review_asins = set([r.get(\"parent_asin\") for r in sample_reviews])\n",
        "print(\"Common ASINs:\", len(review_asins & meta_asins))"
      ]
    },
    {
      "cell_type": "markdown",
      "id": "81f90a0d-eaf7-4dcc-bbbc-6c830ed4fd45",
      "metadata": {
        "id": "81f90a0d-eaf7-4dcc-bbbc-6c830ed4fd45"
      },
      "source": [
        "## Build RAG documents per product"
      ]
    },
    {
      "cell_type": "code",
      "execution_count": null,
      "id": "3ab10a40-fa49-40df-8dde-03c9ebd0ba2b",
      "metadata": {
        "id": "3ab10a40-fa49-40df-8dde-03c9ebd0ba2b"
      },
      "outputs": [],
      "source": [
        "documents = []\n",
        "\n",
        "for product in sample_meta:\n",
        "    parent_asin = product.get(\"parent_asin\")\n",
        "    if parent_asin not in review_by_asin:\n",
        "        continue\n",
        "\n",
        "    doc = f\"Title: {product.get('title', '')}\\n\"\n",
        "    doc += f\"Brand: {product.get('details', {}).get('brand', '')}\\n\"\n",
        "    doc += f\"Store: {product.get('store', '')}\\n\"\n",
        "\n",
        "    doc += f\"Main Category: {product.get('main_category', '')}\\n\"\n",
        "    doc += f\"Categories: {' > '.join(product.get('categories', []))}\\n\"\n",
        "\n",
        "    doc += f\"Price: ${product.get('price', 'N/A')}\\n\"\n",
        "    doc += f\"Average Rating: {product.get('average_rating', 'N/A')} ({product.get('rating_number', 0)} reviews)\\n\"\n",
        "\n",
        "    # Features (bullet points)\n",
        "    features = product.get(\"features\", [])\n",
        "    if features:\n",
        "        doc += \"Key Features:\\n\" + \"\\n\".join([f\"- {f}\" for f in features]) + \"\\n\"\n",
        "\n",
        "    # Description (multi-line)\n",
        "    desc = product.get(\"description\")\n",
        "    if isinstance(desc, list):\n",
        "        doc += \"Description:\\n\" + \"\\n\".join(desc) + \"\\n\"\n",
        "    elif isinstance(desc, str):\n",
        "        doc += f\"Description: {desc}\\n\"\n",
        "\n",
        "    # Optional: include a few ingredients if available\n",
        "    ingredients = product.get(\"details\", {}).get(\"ingredients\")\n",
        "    if ingredients:\n",
        "        doc += f\"Ingredients: {ingredients}\\n\"\n",
        "\n",
        "    # Recommended bundles\n",
        "    bundles = product.get(\"bought_together\", [])\n",
        "    if bundles:\n",
        "        doc += f\"Frequently Bought Together: {', '.join(bundles[:3])}\\n\"\n",
        "\n",
        "    # Reviews (limit to 3)\n",
        "    reviews = review_by_asin[parent_asin][:3]\n",
        "    doc += \"\\nUser Reviews:\\n\" + \"\\n\".join(reviews)\n",
        "\n",
        "    documents.append((parent_asin, doc))"
      ]
    },
    {
      "cell_type": "markdown",
      "id": "d4826a09-20b7-4535-957c-358f8f849a4d",
      "metadata": {
        "id": "d4826a09-20b7-4535-957c-358f8f849a4d"
      },
      "source": [
        "## Print Summary + Sample"
      ]
    },
    {
      "cell_type": "code",
      "execution_count": null,
      "id": "ca79bcaf-2e3f-4e8d-a24f-2d2ae48dbf57",
      "metadata": {
        "id": "ca79bcaf-2e3f-4e8d-a24f-2d2ae48dbf57",
        "outputId": "a354b2f0-c78b-44db-b04d-20a58bd4c18b"
      },
      "outputs": [
        {
          "name": "stdout",
          "output_type": "stream",
          "text": [
            "\n",
            "Generated 101797 RAG-ready product documents.\n",
            "\n",
            "Sample document:\n",
            " Title: L.A. COLORS 5 Color Matte Eyeshadow, Brown Tweed, 0.25 Oz Powder\n",
            "Brand: \n",
            "Store: L.A. COLORS\n",
            "Main Category: All Beauty\n",
            "Categories: Beauty & Personal Care > Makeup > Eyes > Eyeshadow\n",
            "Price: $2.49\n",
            "Average Rating: 4.3 (5367 reviews)\n",
            "Key Features:\n",
            "- Intense color\n",
            "- Matte finish\n",
            "- Silky texture\n",
            "Description:\n",
            "Wrap yourself in soft, cozy color. These matte palettes are full of five silky, soft and blendable shades. Applies on smooth and each palette is perfectly color coordinated to shade and highlight eyes. An array of shades from neutrals and bolds to create any look you desire.\n",
            "\n",
            "User Reviews:\n",
            "The pic looks great, but the colors are not-they are almost all dark grays and shades of gray-nothing like the vibrant purple shown\n",
            "Very flattering!\n",
            "I am not thrilled with the colors.  I have fair skin and most of the colors are too dark for me.  They also are more yellowish which doesn't work with my pale pink complexion.  the product is easy to apply and doesn't smudge but the colors just don't work for me.\n"
          ]
        }
      ],
      "source": [
        "print(f\"\\nGenerated {len(documents)} RAG-ready product documents.\")\n",
        "print(\"\\nSample document:\\n\", documents[0][1])"
      ]
    },
    {
      "cell_type": "markdown",
      "id": "802ae404-8147-4f8a-9d9e-3447a7e54fe8",
      "metadata": {
        "id": "802ae404-8147-4f8a-9d9e-3447a7e54fe8"
      },
      "source": [
        "## Embed documents & save to disk"
      ]
    },
    {
      "cell_type": "code",
      "execution_count": null,
      "id": "3de4d768-1894-4c71-943c-d265525c34df",
      "metadata": {
        "colab": {
          "referenced_widgets": [
            "e205f9d01f5d40d2b1154bedfbc0c822"
          ]
        },
        "id": "3de4d768-1894-4c71-943c-d265525c34df",
        "outputId": "8d330407-3413-4ed3-99fa-33144081d27a"
      },
      "outputs": [
        {
          "data": {
            "application/vnd.jupyter.widget-view+json": {
              "model_id": "e205f9d01f5d40d2b1154bedfbc0c822",
              "version_major": 2,
              "version_minor": 0
            },
            "text/plain": [
              "Batches:   0%|          | 0/3182 [00:00<?, ?it/s]"
            ]
          },
          "metadata": {},
          "output_type": "display_data"
        }
      ],
      "source": [
        "model = SentenceTransformer(\"all-MiniLM-L6-v2\")\n",
        "# model = SentenceTransformer(\"all-mpnet-base-v2\")\n",
        "\n",
        "asins = [doc[0] for doc in documents]\n",
        "texts = [doc[1] for doc in documents]\n",
        "embeddings = model.encode(texts, show_progress_bar=True)\n",
        "\n",
        "with open(\"vector_store/product_embeddings.pkl\", \"wb\") as f:\n",
        "    pickle.dump((asins, texts, embeddings), f)"
      ]
    },
    {
      "cell_type": "markdown",
      "id": "6743f3b1-d11f-487e-a571-5e74a40f0ee8",
      "metadata": {
        "id": "6743f3b1-d11f-487e-a571-5e74a40f0ee8"
      },
      "source": [
        "## Build and Save FAISS Index"
      ]
    },
    {
      "cell_type": "code",
      "execution_count": null,
      "id": "52fe38bd-5dbb-4bbf-b446-ad67a3971283",
      "metadata": {
        "id": "52fe38bd-5dbb-4bbf-b446-ad67a3971283"
      },
      "outputs": [],
      "source": [
        "embeddings = np.array(embeddings).astype(\"float32\")\n",
        "dimension = embeddings.shape[1]\n",
        "\n",
        "index = faiss.IndexFlatL2(dimension)\n",
        "index.add(embeddings)\n",
        "\n",
        "faiss.write_index(index, \"vector_store/product_index.faiss\")"
      ]
    },
    {
      "cell_type": "markdown",
      "id": "40393479-9780-4888-a319-a1ad4fc00b08",
      "metadata": {
        "id": "40393479-9780-4888-a319-a1ad4fc00b08"
      },
      "source": [
        "## Query + Retrieve Matches"
      ]
    },
    {
      "cell_type": "code",
      "execution_count": null,
      "id": "33fd7658-7b09-4c5d-8efb-a37827b6376b",
      "metadata": {
        "id": "33fd7658-7b09-4c5d-8efb-a37827b6376b"
      },
      "outputs": [],
      "source": [
        "# with open(\"vector_store/product_embeddings.pkl\", \"rb\") as f:\n",
        "#     asins, texts, embeddings = pickle.load(f)\n",
        "\n",
        "# index = faiss.read_index(\"vector_store/product_index.faiss\")\n",
        "\n",
        "# query = \"I want a shampoo and conditioner for oily scalp under $35\"\n",
        "# query_vec = model.encode([query]).astype(\"float32\")\n",
        "\n",
        "# D, I = index.search(query_vec, k=3)\n",
        "\n",
        "# seen = set()\n",
        "# for idx in I[0]:\n",
        "#     if idx == -1 or idx in seen:\n",
        "#         continue\n",
        "#     seen.add(idx)\n",
        "#     print(f\"\\n--- Match {idx} (ASIN: {asins[idx]}) ---\\n\")\n",
        "#     print(texts[idx][:1000])  # Limit output length"
      ]
    },
    {
      "cell_type": "markdown",
      "id": "22be2bb1-6b43-4b74-a987-65b76ddfcb17",
      "metadata": {
        "id": "22be2bb1-6b43-4b74-a987-65b76ddfcb17"
      },
      "source": [
        "#### Retrieve Top-K Relevant Products for a New Query\n",
        "(wrapping it into a clean block)"
      ]
    },
    {
      "cell_type": "code",
      "execution_count": null,
      "id": "55b0730e-168b-401d-a03e-b3b2fb327b5c",
      "metadata": {
        "id": "55b0730e-168b-401d-a03e-b3b2fb327b5c"
      },
      "outputs": [],
      "source": [
        "query = \"I want a shampoo for oily scalp under $35\"\n",
        "query_vec = model.encode([query]).astype(\"float32\")\n",
        "\n",
        "# Search top 3 most relevant product documents\n",
        "D, I = index.search(query_vec, k=3)\n",
        "\n",
        "# Get matched texts and metadata\n",
        "retrieved_texts = [texts[i] for i in I[0] if i != -1]\n",
        "retrieved_asins = [asins[i] for i in I[0] if i != -1]"
      ]
    },
    {
      "cell_type": "markdown",
      "id": "49545881-711d-483a-8968-6d5227417324",
      "metadata": {
        "id": "49545881-711d-483a-8968-6d5227417324"
      },
      "source": [
        "## Build Structured RAG Context from Retrieved Products"
      ]
    },
    {
      "cell_type": "code",
      "execution_count": null,
      "id": "86442363-e40d-4231-a089-f6244eadb74e",
      "metadata": {
        "id": "86442363-e40d-4231-a089-f6244eadb74e"
      },
      "outputs": [],
      "source": [
        "def build_structured_rag_context(asins, texts, meta_lookup, review_by_asin, max_products=3):\n",
        "    context_blocks = []\n",
        "\n",
        "    for asin, text in zip(asins[:max_products], texts[:max_products]):\n",
        "        product = meta_lookup.get(asin, {})\n",
        "        title = product.get(\"title\", \"Unknown\")\n",
        "        brand = product.get(\"brand\", \"Unknown\")\n",
        "        category = product.get(\"category\", \"Unknown\")\n",
        "        price = product.get(\"price\", \"N/A\")\n",
        "        description = product.get(\"description\", \"\")\n",
        "        if isinstance(description, list):\n",
        "            description = \" \".join(description)\n",
        "        elif not isinstance(description, str):\n",
        "            description = \"\"\n",
        "\n",
        "        reviews = review_by_asin.get(asin, [])[:3]\n",
        "        reviews_text = \"\\n\".join([f\"- {r}\" for r in reviews])\n",
        "\n",
        "        block = f\"\"\"=== PRODUCT ===\n",
        "Title: {title}\n",
        "Brand: {brand}\n",
        "Price: ${price}\n",
        "Description: {description}\n",
        "User Reviews:\n",
        "{reviews_text}\n",
        "\"\"\"\n",
        "        context_blocks.append(block.strip())\n",
        "\n",
        "    rag_context = \"\\n\\n---\\n\\n\".join(context_blocks)\n",
        "    return rag_context"
      ]
    },
    {
      "cell_type": "code",
      "execution_count": null,
      "id": "f3f1315e-e0a0-4ba3-90e4-8f4334b340b6",
      "metadata": {
        "id": "f3f1315e-e0a0-4ba3-90e4-8f4334b340b6"
      },
      "outputs": [],
      "source": [
        "# Lookup metadata by ASIN\n",
        "meta_lookup = {p[\"parent_asin\"]: p for p in sample_meta if \"parent_asin\" in p}\n",
        "\n",
        "# Generate clean structured RAG context\n",
        "rag_context = build_structured_rag_context(retrieved_asins, retrieved_texts, meta_lookup, review_by_asin)\n"
      ]
    },
    {
      "cell_type": "markdown",
      "id": "3dbeb8a9-207c-423f-b7af-ff4468f04519",
      "metadata": {
        "id": "3dbeb8a9-207c-423f-b7af-ff4468f04519"
      },
      "source": [
        "## Dynamic Category Matching Using the Query"
      ]
    },
    {
      "cell_type": "code",
      "execution_count": null,
      "id": "3f7a920c-95a4-44c8-bfd7-4b3a7640a885",
      "metadata": {
        "id": "3f7a920c-95a4-44c8-bfd7-4b3a7640a885"
      },
      "outputs": [],
      "source": [
        "# def get_best_category_match(query, category_list, cutoff=0.3):\n",
        "#     query = query.lower()\n",
        "#     matches = get_close_matches(query, category_list, n=1, cutoff=cutoff)\n",
        "#     return matches[0] if matches else None"
      ]
    },
    {
      "cell_type": "code",
      "execution_count": null,
      "id": "f570f6a9-1bbe-465a-b371-ffa426ec2af4",
      "metadata": {
        "id": "f570f6a9-1bbe-465a-b371-ffa426ec2af4"
      },
      "outputs": [],
      "source": [
        "# # Collect all categories from metadata\n",
        "# all_categories = set(cat for p in sample_meta for cat in p.get(\"categories\", []))\n",
        "# all_categories_lower = [cat.lower() for cat in all_categories]\n",
        "\n",
        "# # Match query to best category\n",
        "# best_match = get_best_category_match(query, all_categories_lower)\n",
        "\n",
        "# # Build a lookup from ASIN to metadata\n",
        "# asin_to_meta = {p[\"parent_asin\"]: p for p in sample_meta if \"parent_asin\" in p}\n",
        "\n",
        "# # Filter top-k results by category\n",
        "# filtered_results = []\n",
        "# for asin, text in zip(retrieved_asins, retrieved_texts):\n",
        "#     product = asin_to_meta.get(asin)\n",
        "#     if not product or not best_match:\n",
        "#         continue\n",
        "#     if best_match in [cat.lower() for cat in product.get(\"categories\", [])]:\n",
        "#         filtered_results.append((asin, text))\n",
        "\n",
        "# # Use only filtered results to build the context\n",
        "# rag_context = \"\\n\\n---\\n\\n\".join([text for _, text in filtered_results[:3]])"
      ]
    },
    {
      "cell_type": "markdown",
      "id": "c19d5a2c-8454-4c7b-8d6d-7c169683b465",
      "metadata": {
        "id": "c19d5a2c-8454-4c7b-8d6d-7c169683b465"
      },
      "source": [
        "## Compose Prompt for the LLM Justifier"
      ]
    },
    {
      "cell_type": "code",
      "execution_count": null,
      "id": "2a8b0c52-2b5b-499b-9cf8-16cdfa282b17",
      "metadata": {
        "id": "2a8b0c52-2b5b-499b-9cf8-16cdfa282b17"
      },
      "outputs": [],
      "source": [
        "# Use Together / DeepSeek or any LLM API you prefer\n",
        "prompt = f\"\"\"\n",
        "You are a helpful assistant that explains which products best match the user's request. Use the provided product information and user reviews to justify your recommendation in natural language. Do not mention that you are an assistant or describe your reasoning process. Be friendly and concise.\n",
        "\n",
        "User request: \"{query}\"\n",
        "\n",
        "Product Information:\n",
        "{rag_context}\n",
        "\n",
        "Please write a clear and human-friendly explanation of which products are suitable and why. Avoid technical language or tags like <think>.\n",
        "\"\"\""
      ]
    },
    {
      "cell_type": "markdown",
      "id": "81444732-aad7-4437-9933-b48035c773e0",
      "metadata": {
        "id": "81444732-aad7-4437-9933-b48035c773e0"
      },
      "source": [
        "## Call the LLM API"
      ]
    },
    {
      "cell_type": "code",
      "execution_count": null,
      "id": "eeb27a53-425e-4fbc-8615-923151d82b2e",
      "metadata": {
        "id": "eeb27a53-425e-4fbc-8615-923151d82b2e",
        "outputId": "74a748b5-b7c7-4749-9de2-a8a49d6628e5"
      },
      "outputs": [
        {
          "name": "stdout",
          "output_type": "stream",
          "text": [
            "If you're looking for a shampoo to help with an oily scalp and you're on a budget of $35, I'd recommend checking out the Baxter of California Deep Clean Shampoo. It's priced at $29.75, which fits your budget, and users have reported that it does a great job of keeping their hair clean without leaving any buildup, which is especially helpful for oily hair. Plus, it smells wonderful and is safe for colored hair.\n",
            "\n",
            "The J Beverly Hills Blue Everyday Moisturizing Shampoo is another option that's under $35, priced at $27. However, there aren't as many reviews available to confirm its effectiveness for oily scalps.\n",
            "\n",
            "As for the KEVIN MURPHY Plumping Wash, it's unfortunately out of your budget at $81.49, so that might not be the best option for you.\n"
          ]
        }
      ],
      "source": [
        "api_key = os.environ.get(\"TOGETHER_API_KEY\")\n",
        "\n",
        "client = Together(api_key=api_key)\n",
        "\n",
        "response = client.chat.completions.create(\n",
        "    model=\"meta-llama/Llama-3.3-70B-Instruct-Turbo-Free\",\n",
        "    messages=[\n",
        "        {\"role\": \"user\", \"content\": prompt}\n",
        "    ]\n",
        ")\n",
        "\n",
        "print(response.choices[0].message.content)"
      ]
    },
    {
      "cell_type": "markdown",
      "id": "0ad57445-8115-4d7c-a3f6-7d45666e79a1",
      "metadata": {
        "id": "0ad57445-8115-4d7c-a3f6-7d45666e79a1"
      },
      "source": [
        "## Deploy as a Gradio Web App"
      ]
    },
    {
      "cell_type": "code",
      "execution_count": null,
      "id": "2053398e-8730-46bb-ba24-a5033ee92bb0",
      "metadata": {
        "id": "2053398e-8730-46bb-ba24-a5033ee92bb0"
      },
      "outputs": [],
      "source": [
        "def recommend_products(query):\n",
        "    query_vec = model.encode([query]).astype(\"float32\")\n",
        "    D, I = index.search(query_vec, k=5)\n",
        "\n",
        "    retrieved_texts = [texts[i] for i in I[0] if i != -1]\n",
        "    retrieved_asins = [asins[i] for i in I[0] if i != -1]\n",
        "\n",
        "    rag_context = build_structured_rag_context(retrieved_asins, retrieved_texts, meta_lookup, review_by_asin)\n",
        "\n",
        "    prompt = f\"\"\"\n",
        "You are a helpful assistant that explains which products best match the user's request. Use the provided product information and user reviews to justify your recommendation in natural language. Do not mention that you are an assistant or describe your reasoning process. Be friendly and concise.\n",
        "\n",
        "User request: \"{query}\"\n",
        "\n",
        "Product Information:\n",
        "{rag_context}\n",
        "\n",
        "Please write a clear and human-friendly explanation of which products are suitable and why.\n",
        "\"\"\"\n",
        "    response = client.chat.completions.create(\n",
        "        model=\"meta-llama/Llama-3.3-70B-Instruct-Turbo-Free\",\n",
        "        messages=[{\"role\": \"user\", \"content\": prompt}]\n",
        "    )\n",
        "\n",
        "    return response.choices[0].message.content\n",
        "\n",
        "\n",
        "# def recommend_products(query):\n",
        "#     rag_context = build_structured_rag_context(\n",
        "#         retrieved_asins, retrieved_texts, meta_lookup, review_by_asin\n",
        "#     )\n",
        "\n",
        "#     # SAFETY / FALLBACK CHECK\n",
        "#     if not rag_context.strip():\n",
        "#         return (\n",
        "#             \"❗ We couldn’t find any perfect matches for your request. \"\n",
        "#             \"Here are the most relevant products based on available reviews:\\n\\n\"\n",
        "#             f\"{rag_context}\"\n",
        "#         )\n",
        "\n",
        "#     # Otherwise continue as usual\n",
        "#     prompt = f\"\"\"You are a helpful assistant that explains which products best match the user's request. Use the provided product information and user reviews to justify your recommendation in natural language. Do not mention that you are an assistant or describe your reasoning process. Be friendly and concise.\n",
        "\n",
        "# Query:\n",
        "# {query}\n",
        "\n",
        "# Product Context (retrieved top matches):\n",
        "# {rag_context}\n",
        "\n",
        "# Please write a clear and human-friendly explanation of which products are suitable and why.\n",
        "# \"\"\"\n",
        "\n",
        "#     response = client.chat.completions.create(\n",
        "#         model=\"meta-llama/Llama-3.3-70B-Instruct-Turbo-Free\",\n",
        "#         messages=[{\"role\": \"user\", \"content\": prompt}]\n",
        "#     )\n",
        "\n",
        "#     return response.choices[0].message.content"
      ]
    },
    {
      "cell_type": "markdown",
      "id": "9784ff4d-5d8f-4d40-b23e-b1d683cea5c0",
      "metadata": {
        "id": "9784ff4d-5d8f-4d40-b23e-b1d683cea5c0"
      },
      "source": [
        "## Create the Gradio Interface"
      ]
    },
    {
      "cell_type": "code",
      "execution_count": null,
      "id": "26f88ad3-6d32-4b05-8369-94627c84b7b0",
      "metadata": {
        "id": "26f88ad3-6d32-4b05-8369-94627c84b7b0",
        "outputId": "7450f31c-30ed-4131-c379-8651d2f33b06"
      },
      "outputs": [
        {
          "name": "stdout",
          "output_type": "stream",
          "text": [
            "* Running on local URL:  http://127.0.0.1:7860\n"
          ]
        },
        {
          "name": "stderr",
          "output_type": "stream",
          "text": [
            "huggingface/tokenizers: The current process just got forked, after parallelism has already been used. Disabling parallelism to avoid deadlocks...\n",
            "To disable this warning, you can either:\n",
            "\t- Avoid using `tokenizers` before the fork if possible\n",
            "\t- Explicitly set the environment variable TOKENIZERS_PARALLELISM=(true | false)\n"
          ]
        },
        {
          "name": "stdout",
          "output_type": "stream",
          "text": [
            "* Running on public URL: https://d173ab09671fb3f94f.gradio.live\n",
            "\n",
            "This share link expires in 1 week. For free permanent hosting and GPU upgrades, run `gradio deploy` from the terminal in the working directory to deploy to Hugging Face Spaces (https://huggingface.co/spaces)\n"
          ]
        },
        {
          "data": {
            "text/html": [
              "<div><iframe src=\"https://d173ab09671fb3f94f.gradio.live\" width=\"100%\" height=\"500\" allow=\"autoplay; camera; microphone; clipboard-read; clipboard-write;\" frameborder=\"0\" allowfullscreen></iframe></div>"
            ],
            "text/plain": [
              "<IPython.core.display.HTML object>"
            ]
          },
          "metadata": {},
          "output_type": "display_data"
        },
        {
          "data": {
            "text/plain": []
          },
          "execution_count": 20,
          "metadata": {},
          "output_type": "execute_result"
        }
      ],
      "source": [
        "import gradio as gr\n",
        "\n",
        "# Define theme\n",
        "amazon_theme = gr.themes.Soft(\n",
        "    primary_hue=gr.themes.colors.orange,\n",
        "    secondary_hue=gr.themes.colors.slate,\n",
        "    neutral_hue=gr.themes.colors.gray,\n",
        ").set(\n",
        "    body_background_fill=\"#232F3E\",                # Amazon dark background\n",
        "    body_text_color=\"#FFFFFF\",\n",
        "    button_primary_background_fill=\"#FF9900\",      # Amazon orange\n",
        "    button_primary_text_color=\"#000000\",           # Black button text\n",
        "    button_secondary_background_fill=\"#37475A\",    # Darker gray secondary\n",
        "    input_background_fill=\"#37475A\",\n",
        "    input_border_color=\"#FF9900\",\n",
        "    block_title_text_color=\"#FF9900\",\n",
        "    block_background_fill=\"#232F3E\"\n",
        ")\n",
        "\n",
        "# Define interface\n",
        "with gr.Blocks(theme=amazon_theme) as demo:\n",
        "    gr.HTML(\n",
        "    \"<h2 style='text-align: center; color: #FF9900;'>🛒 JustifyMyBuy: <span style='color:white;'>Your AI Product Explainer</span></h2>\"\n",
        ")\n",
        "\n",
        "    gr.Markdown(\n",
        "        \"📦 *Note: This tool uses Amazon product listings and review data from 2023 to generate recommendations. Currently supports products in the Beauty & Personal Care category only.*\"\n",
        "    )\n",
        "\n",
        "    with gr.Row():\n",
        "        with gr.Column():\n",
        "            user_query = gr.Textbox(\n",
        "                label=\"Enter your product need\",\n",
        "                placeholder=\"e.g Lip balm under $10.\"\n",
        "            )\n",
        "            submit_btn = gr.Button(\"Submit\")\n",
        "            clear_btn = gr.Button(\"Clear\")\n",
        "\n",
        "        with gr.Column():\n",
        "            response = gr.Textbox(\n",
        "                label=\"Recommended Products Explanation\",\n",
        "                lines=12\n",
        "            )\n",
        "\n",
        "    submit_btn.click(fn=recommend_products, inputs=user_query, outputs=response)\n",
        "    clear_btn.click(fn=lambda: (\"\", \"\"), outputs=[user_query, response])\n",
        "\n",
        "# Launch the app\n",
        "demo.launch(share=True)"
      ]
    },
    {
      "cell_type": "code",
      "execution_count": null,
      "id": "a41cebe5-60e5-433b-b83c-c34ea57edd66",
      "metadata": {
        "id": "a41cebe5-60e5-433b-b83c-c34ea57edd66"
      },
      "outputs": [],
      "source": []
    }
  ],
  "metadata": {
    "kernelspec": {
      "display_name": "Python 3 (ipykernel)",
      "language": "python",
      "name": "python3"
    },
    "language_info": {
      "codemirror_mode": {
        "name": "ipython",
        "version": 3
      },
      "file_extension": ".py",
      "mimetype": "text/x-python",
      "name": "python",
      "nbconvert_exporter": "python",
      "pygments_lexer": "ipython3",
      "version": "3.12.2"
    },
    "colab": {
      "provenance": []
    }
  },
  "nbformat": 4,
  "nbformat_minor": 5
}